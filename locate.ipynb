{
 "cells": [
  {
   "metadata": {},
   "cell_type": "markdown",
   "source": "webdriver的简单用法",
   "id": "a716f630bd70cf66"
  },
  {
   "metadata": {
    "ExecuteTime": {
     "end_time": "2024-10-06T07:56:27.770294Z",
     "start_time": "2024-10-06T07:55:58.734236Z"
    }
   },
   "cell_type": "code",
   "source": [
    "import time\n",
    "from selenium import webdriver\n",
    "from selenium.webdriver.common.by import By\n",
    "#定义一个driver的变量，用来接收实例化后的浏览器\n",
    "driver = webdriver.Chrome()\n",
    "#使用get方法访问网址\n",
    "driver.get(\"https://www.bilibili.com\")\n",
    "#1.找到输入框，输入内容\n",
    "driver.find_element(By.CLASS_NAME, \"nav-search-input\").send_keys(\"persona5\")\n",
    "#nav-search-input\n",
    "#找到搜索按钮，点击\n",
    "driver.find_element(By.CLASS_NAME, \"nav-search-btn\").click()\n",
    "time.sleep(5)\n",
    "driver.close()\n"
   ],
   "id": "c70a11fcadb37c5e",
   "outputs": [],
   "execution_count": 3
  },
  {
   "metadata": {
    "ExecuteTime": {
     "end_time": "2024-10-04T04:26:38.387803Z",
     "start_time": "2024-10-04T04:26:09.679658Z"
    }
   },
   "cell_type": "code",
   "source": [
    "from time import sleep\n",
    "from selenium import webdriver\n",
    "from selenium.webdriver.common.by import By\n",
    "driver = webdriver.Chrome()\n",
    "#窗口最大化\n",
    "#driver.maximize_window()\n",
    "driver.get(\"https://www.baidu.com\")\n",
    "\n",
    "driver.find_element(By.ID,'kw').send_keys('hihihi')\n",
    "driver.find_element(By.ID,'su').click()\n",
    "sleep(5)\n",
    "driver.close()\n",
    "\n"
   ],
   "id": "48f2aeeeb52f77e6",
   "outputs": [
    {
     "ename": "KeyboardInterrupt",
     "evalue": "",
     "output_type": "error",
     "traceback": [
      "\u001B[0;31m---------------------------------------------------------------------------\u001B[0m",
      "\u001B[0;31mKeyboardInterrupt\u001B[0m                         Traceback (most recent call last)",
      "Cell \u001B[0;32mIn[3], line 4\u001B[0m\n\u001B[1;32m      2\u001B[0m \u001B[38;5;28;01mfrom\u001B[39;00m \u001B[38;5;21;01mselenium\u001B[39;00m \u001B[38;5;28;01mimport\u001B[39;00m webdriver\n\u001B[1;32m      3\u001B[0m \u001B[38;5;28;01mfrom\u001B[39;00m \u001B[38;5;21;01mselenium\u001B[39;00m\u001B[38;5;21;01m.\u001B[39;00m\u001B[38;5;21;01mwebdriver\u001B[39;00m\u001B[38;5;21;01m.\u001B[39;00m\u001B[38;5;21;01mcommon\u001B[39;00m\u001B[38;5;21;01m.\u001B[39;00m\u001B[38;5;21;01mby\u001B[39;00m \u001B[38;5;28;01mimport\u001B[39;00m By\n\u001B[0;32m----> 4\u001B[0m driver \u001B[38;5;241m=\u001B[39m \u001B[43mwebdriver\u001B[49m\u001B[38;5;241;43m.\u001B[39;49m\u001B[43mChrome\u001B[49m\u001B[43m(\u001B[49m\u001B[43m)\u001B[49m\n\u001B[1;32m      5\u001B[0m \u001B[38;5;66;03m#窗口最大化\u001B[39;00m\n\u001B[1;32m      6\u001B[0m \u001B[38;5;66;03m#driver.maximize_window()\u001B[39;00m\n\u001B[1;32m      7\u001B[0m driver\u001B[38;5;241m.\u001B[39mget(\u001B[38;5;124m\"\u001B[39m\u001B[38;5;124mhttps://www.baidu.com\u001B[39m\u001B[38;5;124m\"\u001B[39m)\n",
      "File \u001B[0;32m~/PycharmProjects/WebSelenium/.venv/lib/python3.9/site-packages/selenium/webdriver/chrome/webdriver.py:45\u001B[0m, in \u001B[0;36mWebDriver.__init__\u001B[0;34m(self, options, service, keep_alive)\u001B[0m\n\u001B[1;32m     42\u001B[0m service \u001B[38;5;241m=\u001B[39m service \u001B[38;5;28;01mif\u001B[39;00m service \u001B[38;5;28;01melse\u001B[39;00m Service()\n\u001B[1;32m     43\u001B[0m options \u001B[38;5;241m=\u001B[39m options \u001B[38;5;28;01mif\u001B[39;00m options \u001B[38;5;28;01melse\u001B[39;00m Options()\n\u001B[0;32m---> 45\u001B[0m \u001B[38;5;28;43msuper\u001B[39;49m\u001B[43m(\u001B[49m\u001B[43m)\u001B[49m\u001B[38;5;241;43m.\u001B[39;49m\u001B[38;5;21;43m__init__\u001B[39;49m\u001B[43m(\u001B[49m\n\u001B[1;32m     46\u001B[0m \u001B[43m    \u001B[49m\u001B[43mbrowser_name\u001B[49m\u001B[38;5;241;43m=\u001B[39;49m\u001B[43mDesiredCapabilities\u001B[49m\u001B[38;5;241;43m.\u001B[39;49m\u001B[43mCHROME\u001B[49m\u001B[43m[\u001B[49m\u001B[38;5;124;43m\"\u001B[39;49m\u001B[38;5;124;43mbrowserName\u001B[39;49m\u001B[38;5;124;43m\"\u001B[39;49m\u001B[43m]\u001B[49m\u001B[43m,\u001B[49m\n\u001B[1;32m     47\u001B[0m \u001B[43m    \u001B[49m\u001B[43mvendor_prefix\u001B[49m\u001B[38;5;241;43m=\u001B[39;49m\u001B[38;5;124;43m\"\u001B[39;49m\u001B[38;5;124;43mgoog\u001B[39;49m\u001B[38;5;124;43m\"\u001B[39;49m\u001B[43m,\u001B[49m\n\u001B[1;32m     48\u001B[0m \u001B[43m    \u001B[49m\u001B[43moptions\u001B[49m\u001B[38;5;241;43m=\u001B[39;49m\u001B[43moptions\u001B[49m\u001B[43m,\u001B[49m\n\u001B[1;32m     49\u001B[0m \u001B[43m    \u001B[49m\u001B[43mservice\u001B[49m\u001B[38;5;241;43m=\u001B[39;49m\u001B[43mservice\u001B[49m\u001B[43m,\u001B[49m\n\u001B[1;32m     50\u001B[0m \u001B[43m    \u001B[49m\u001B[43mkeep_alive\u001B[49m\u001B[38;5;241;43m=\u001B[39;49m\u001B[43mkeep_alive\u001B[49m\u001B[43m,\u001B[49m\n\u001B[1;32m     51\u001B[0m \u001B[43m\u001B[49m\u001B[43m)\u001B[49m\n",
      "File \u001B[0;32m~/PycharmProjects/WebSelenium/.venv/lib/python3.9/site-packages/selenium/webdriver/chromium/webdriver.py:50\u001B[0m, in \u001B[0;36mChromiumDriver.__init__\u001B[0;34m(self, browser_name, vendor_prefix, options, service, keep_alive)\u001B[0m\n\u001B[1;32m     47\u001B[0m \u001B[38;5;28mself\u001B[39m\u001B[38;5;241m.\u001B[39mservice \u001B[38;5;241m=\u001B[39m service\n\u001B[1;32m     49\u001B[0m finder \u001B[38;5;241m=\u001B[39m DriverFinder(\u001B[38;5;28mself\u001B[39m\u001B[38;5;241m.\u001B[39mservice, options)\n\u001B[0;32m---> 50\u001B[0m \u001B[38;5;28;01mif\u001B[39;00m \u001B[43mfinder\u001B[49m\u001B[38;5;241;43m.\u001B[39;49m\u001B[43mget_browser_path\u001B[49m\u001B[43m(\u001B[49m\u001B[43m)\u001B[49m:\n\u001B[1;32m     51\u001B[0m     options\u001B[38;5;241m.\u001B[39mbinary_location \u001B[38;5;241m=\u001B[39m finder\u001B[38;5;241m.\u001B[39mget_browser_path()\n\u001B[1;32m     52\u001B[0m     options\u001B[38;5;241m.\u001B[39mbrowser_version \u001B[38;5;241m=\u001B[39m \u001B[38;5;28;01mNone\u001B[39;00m\n",
      "File \u001B[0;32m~/PycharmProjects/WebSelenium/.venv/lib/python3.9/site-packages/selenium/webdriver/common/driver_finder.py:47\u001B[0m, in \u001B[0;36mDriverFinder.get_browser_path\u001B[0;34m(self)\u001B[0m\n\u001B[1;32m     46\u001B[0m \u001B[38;5;28;01mdef\u001B[39;00m \u001B[38;5;21mget_browser_path\u001B[39m(\u001B[38;5;28mself\u001B[39m) \u001B[38;5;241m-\u001B[39m\u001B[38;5;241m>\u001B[39m \u001B[38;5;28mstr\u001B[39m:\n\u001B[0;32m---> 47\u001B[0m     \u001B[38;5;28;01mreturn\u001B[39;00m \u001B[38;5;28;43mself\u001B[39;49m\u001B[38;5;241;43m.\u001B[39;49m\u001B[43m_binary_paths\u001B[49m\u001B[43m(\u001B[49m\u001B[43m)\u001B[49m[\u001B[38;5;124m\"\u001B[39m\u001B[38;5;124mbrowser_path\u001B[39m\u001B[38;5;124m\"\u001B[39m]\n",
      "File \u001B[0;32m~/PycharmProjects/WebSelenium/.venv/lib/python3.9/site-packages/selenium/webdriver/common/driver_finder.py:67\u001B[0m, in \u001B[0;36mDriverFinder._binary_paths\u001B[0;34m(self)\u001B[0m\n\u001B[1;32m     65\u001B[0m     \u001B[38;5;28mself\u001B[39m\u001B[38;5;241m.\u001B[39m_paths[\u001B[38;5;124m\"\u001B[39m\u001B[38;5;124mdriver_path\u001B[39m\u001B[38;5;124m\"\u001B[39m] \u001B[38;5;241m=\u001B[39m path\n\u001B[1;32m     66\u001B[0m \u001B[38;5;28;01melse\u001B[39;00m:\n\u001B[0;32m---> 67\u001B[0m     output \u001B[38;5;241m=\u001B[39m \u001B[43mSeleniumManager\u001B[49m\u001B[43m(\u001B[49m\u001B[43m)\u001B[49m\u001B[38;5;241;43m.\u001B[39;49m\u001B[43mbinary_paths\u001B[49m\u001B[43m(\u001B[49m\u001B[38;5;28;43mself\u001B[39;49m\u001B[38;5;241;43m.\u001B[39;49m\u001B[43m_to_args\u001B[49m\u001B[43m(\u001B[49m\u001B[43m)\u001B[49m\u001B[43m)\u001B[49m\n\u001B[1;32m     68\u001B[0m     \u001B[38;5;28;01mif\u001B[39;00m Path(output[\u001B[38;5;124m\"\u001B[39m\u001B[38;5;124mdriver_path\u001B[39m\u001B[38;5;124m\"\u001B[39m])\u001B[38;5;241m.\u001B[39mis_file():\n\u001B[1;32m     69\u001B[0m         \u001B[38;5;28mself\u001B[39m\u001B[38;5;241m.\u001B[39m_paths[\u001B[38;5;124m\"\u001B[39m\u001B[38;5;124mdriver_path\u001B[39m\u001B[38;5;124m\"\u001B[39m] \u001B[38;5;241m=\u001B[39m output[\u001B[38;5;124m\"\u001B[39m\u001B[38;5;124mdriver_path\u001B[39m\u001B[38;5;124m\"\u001B[39m]\n",
      "File \u001B[0;32m~/PycharmProjects/WebSelenium/.venv/lib/python3.9/site-packages/selenium/webdriver/common/selenium_manager.py:55\u001B[0m, in \u001B[0;36mSeleniumManager.binary_paths\u001B[0;34m(self, args)\u001B[0m\n\u001B[1;32m     52\u001B[0m args\u001B[38;5;241m.\u001B[39mappend(\u001B[38;5;124m\"\u001B[39m\u001B[38;5;124m--output\u001B[39m\u001B[38;5;124m\"\u001B[39m)\n\u001B[1;32m     53\u001B[0m args\u001B[38;5;241m.\u001B[39mappend(\u001B[38;5;124m\"\u001B[39m\u001B[38;5;124mjson\u001B[39m\u001B[38;5;124m\"\u001B[39m)\n\u001B[0;32m---> 55\u001B[0m \u001B[38;5;28;01mreturn\u001B[39;00m \u001B[38;5;28;43mself\u001B[39;49m\u001B[38;5;241;43m.\u001B[39;49m\u001B[43m_run\u001B[49m\u001B[43m(\u001B[49m\u001B[43margs\u001B[49m\u001B[43m)\u001B[49m\n",
      "File \u001B[0;32m~/PycharmProjects/WebSelenium/.venv/lib/python3.9/site-packages/selenium/webdriver/common/selenium_manager.py:119\u001B[0m, in \u001B[0;36mSeleniumManager._run\u001B[0;34m(args)\u001B[0m\n\u001B[1;32m    117\u001B[0m     completed_proc \u001B[38;5;241m=\u001B[39m subprocess\u001B[38;5;241m.\u001B[39mrun(args, capture_output\u001B[38;5;241m=\u001B[39m\u001B[38;5;28;01mTrue\u001B[39;00m, creationflags\u001B[38;5;241m=\u001B[39msubprocess\u001B[38;5;241m.\u001B[39mCREATE_NO_WINDOW)\n\u001B[1;32m    118\u001B[0m \u001B[38;5;28;01melse\u001B[39;00m:\n\u001B[0;32m--> 119\u001B[0m     completed_proc \u001B[38;5;241m=\u001B[39m \u001B[43msubprocess\u001B[49m\u001B[38;5;241;43m.\u001B[39;49m\u001B[43mrun\u001B[49m\u001B[43m(\u001B[49m\u001B[43margs\u001B[49m\u001B[43m,\u001B[49m\u001B[43m \u001B[49m\u001B[43mcapture_output\u001B[49m\u001B[38;5;241;43m=\u001B[39;49m\u001B[38;5;28;43;01mTrue\u001B[39;49;00m\u001B[43m)\u001B[49m\n\u001B[1;32m    120\u001B[0m stdout \u001B[38;5;241m=\u001B[39m completed_proc\u001B[38;5;241m.\u001B[39mstdout\u001B[38;5;241m.\u001B[39mdecode(\u001B[38;5;124m\"\u001B[39m\u001B[38;5;124mutf-8\u001B[39m\u001B[38;5;124m\"\u001B[39m)\u001B[38;5;241m.\u001B[39mrstrip(\u001B[38;5;124m\"\u001B[39m\u001B[38;5;130;01m\\n\u001B[39;00m\u001B[38;5;124m\"\u001B[39m)\n\u001B[1;32m    121\u001B[0m stderr \u001B[38;5;241m=\u001B[39m completed_proc\u001B[38;5;241m.\u001B[39mstderr\u001B[38;5;241m.\u001B[39mdecode(\u001B[38;5;124m\"\u001B[39m\u001B[38;5;124mutf-8\u001B[39m\u001B[38;5;124m\"\u001B[39m)\u001B[38;5;241m.\u001B[39mrstrip(\u001B[38;5;124m\"\u001B[39m\u001B[38;5;130;01m\\n\u001B[39;00m\u001B[38;5;124m\"\u001B[39m)\n",
      "File \u001B[0;32m/usr/local/Cellar/python@3.9/3.9.19_1/Frameworks/Python.framework/Versions/3.9/lib/python3.9/subprocess.py:507\u001B[0m, in \u001B[0;36mrun\u001B[0;34m(input, capture_output, timeout, check, *popenargs, **kwargs)\u001B[0m\n\u001B[1;32m    505\u001B[0m \u001B[38;5;28;01mwith\u001B[39;00m Popen(\u001B[38;5;241m*\u001B[39mpopenargs, \u001B[38;5;241m*\u001B[39m\u001B[38;5;241m*\u001B[39mkwargs) \u001B[38;5;28;01mas\u001B[39;00m process:\n\u001B[1;32m    506\u001B[0m     \u001B[38;5;28;01mtry\u001B[39;00m:\n\u001B[0;32m--> 507\u001B[0m         stdout, stderr \u001B[38;5;241m=\u001B[39m \u001B[43mprocess\u001B[49m\u001B[38;5;241;43m.\u001B[39;49m\u001B[43mcommunicate\u001B[49m\u001B[43m(\u001B[49m\u001B[38;5;28;43minput\u001B[39;49m\u001B[43m,\u001B[49m\u001B[43m \u001B[49m\u001B[43mtimeout\u001B[49m\u001B[38;5;241;43m=\u001B[39;49m\u001B[43mtimeout\u001B[49m\u001B[43m)\u001B[49m\n\u001B[1;32m    508\u001B[0m     \u001B[38;5;28;01mexcept\u001B[39;00m TimeoutExpired \u001B[38;5;28;01mas\u001B[39;00m exc:\n\u001B[1;32m    509\u001B[0m         process\u001B[38;5;241m.\u001B[39mkill()\n",
      "File \u001B[0;32m/usr/local/Cellar/python@3.9/3.9.19_1/Frameworks/Python.framework/Versions/3.9/lib/python3.9/subprocess.py:1134\u001B[0m, in \u001B[0;36mPopen.communicate\u001B[0;34m(self, input, timeout)\u001B[0m\n\u001B[1;32m   1131\u001B[0m     endtime \u001B[38;5;241m=\u001B[39m \u001B[38;5;28;01mNone\u001B[39;00m\n\u001B[1;32m   1133\u001B[0m \u001B[38;5;28;01mtry\u001B[39;00m:\n\u001B[0;32m-> 1134\u001B[0m     stdout, stderr \u001B[38;5;241m=\u001B[39m \u001B[38;5;28;43mself\u001B[39;49m\u001B[38;5;241;43m.\u001B[39;49m\u001B[43m_communicate\u001B[49m\u001B[43m(\u001B[49m\u001B[38;5;28;43minput\u001B[39;49m\u001B[43m,\u001B[49m\u001B[43m \u001B[49m\u001B[43mendtime\u001B[49m\u001B[43m,\u001B[49m\u001B[43m \u001B[49m\u001B[43mtimeout\u001B[49m\u001B[43m)\u001B[49m\n\u001B[1;32m   1135\u001B[0m \u001B[38;5;28;01mexcept\u001B[39;00m \u001B[38;5;167;01mKeyboardInterrupt\u001B[39;00m:\n\u001B[1;32m   1136\u001B[0m     \u001B[38;5;66;03m# https://bugs.python.org/issue25942\u001B[39;00m\n\u001B[1;32m   1137\u001B[0m     \u001B[38;5;66;03m# See the detailed comment in .wait().\u001B[39;00m\n\u001B[1;32m   1138\u001B[0m     \u001B[38;5;28;01mif\u001B[39;00m timeout \u001B[38;5;129;01mis\u001B[39;00m \u001B[38;5;129;01mnot\u001B[39;00m \u001B[38;5;28;01mNone\u001B[39;00m:\n",
      "File \u001B[0;32m/usr/local/Cellar/python@3.9/3.9.19_1/Frameworks/Python.framework/Versions/3.9/lib/python3.9/subprocess.py:1995\u001B[0m, in \u001B[0;36mPopen._communicate\u001B[0;34m(self, input, endtime, orig_timeout)\u001B[0m\n\u001B[1;32m   1988\u001B[0m     \u001B[38;5;28mself\u001B[39m\u001B[38;5;241m.\u001B[39m_check_timeout(endtime, orig_timeout,\n\u001B[1;32m   1989\u001B[0m                         stdout, stderr,\n\u001B[1;32m   1990\u001B[0m                         skip_check_and_raise\u001B[38;5;241m=\u001B[39m\u001B[38;5;28;01mTrue\u001B[39;00m)\n\u001B[1;32m   1991\u001B[0m     \u001B[38;5;28;01mraise\u001B[39;00m \u001B[38;5;167;01mRuntimeError\u001B[39;00m(  \u001B[38;5;66;03m# Impossible :)\u001B[39;00m\n\u001B[1;32m   1992\u001B[0m         \u001B[38;5;124m'\u001B[39m\u001B[38;5;124m_check_timeout(..., skip_check_and_raise=True) \u001B[39m\u001B[38;5;124m'\u001B[39m\n\u001B[1;32m   1993\u001B[0m         \u001B[38;5;124m'\u001B[39m\u001B[38;5;124mfailed to raise TimeoutExpired.\u001B[39m\u001B[38;5;124m'\u001B[39m)\n\u001B[0;32m-> 1995\u001B[0m ready \u001B[38;5;241m=\u001B[39m \u001B[43mselector\u001B[49m\u001B[38;5;241;43m.\u001B[39;49m\u001B[43mselect\u001B[49m\u001B[43m(\u001B[49m\u001B[43mtimeout\u001B[49m\u001B[43m)\u001B[49m\n\u001B[1;32m   1996\u001B[0m \u001B[38;5;28mself\u001B[39m\u001B[38;5;241m.\u001B[39m_check_timeout(endtime, orig_timeout, stdout, stderr)\n\u001B[1;32m   1998\u001B[0m \u001B[38;5;66;03m# XXX Rewrite these to use non-blocking I/O on the file\u001B[39;00m\n\u001B[1;32m   1999\u001B[0m \u001B[38;5;66;03m# objects; they are no longer using C stdio!\u001B[39;00m\n",
      "File \u001B[0;32m/usr/local/Cellar/python@3.9/3.9.19_1/Frameworks/Python.framework/Versions/3.9/lib/python3.9/selectors.py:416\u001B[0m, in \u001B[0;36m_PollLikeSelector.select\u001B[0;34m(self, timeout)\u001B[0m\n\u001B[1;32m    414\u001B[0m ready \u001B[38;5;241m=\u001B[39m []\n\u001B[1;32m    415\u001B[0m \u001B[38;5;28;01mtry\u001B[39;00m:\n\u001B[0;32m--> 416\u001B[0m     fd_event_list \u001B[38;5;241m=\u001B[39m \u001B[38;5;28;43mself\u001B[39;49m\u001B[38;5;241;43m.\u001B[39;49m\u001B[43m_selector\u001B[49m\u001B[38;5;241;43m.\u001B[39;49m\u001B[43mpoll\u001B[49m\u001B[43m(\u001B[49m\u001B[43mtimeout\u001B[49m\u001B[43m)\u001B[49m\n\u001B[1;32m    417\u001B[0m \u001B[38;5;28;01mexcept\u001B[39;00m \u001B[38;5;167;01mInterruptedError\u001B[39;00m:\n\u001B[1;32m    418\u001B[0m     \u001B[38;5;28;01mreturn\u001B[39;00m ready\n",
      "\u001B[0;31mKeyboardInterrupt\u001B[0m: "
     ]
    }
   ],
   "execution_count": 3
  },
  {
   "metadata": {},
   "cell_type": "markdown",
   "source": "byClassName，很多classname是会重复的，所以查询到的是数组形式，这时候可以用断点+debugger来执行，然后用evacuate查看result中的各个数据，并且加上数组指针",
   "id": "db012fb821ddf460"
  },
  {
   "metadata": {
    "ExecuteTime": {
     "end_time": "2024-10-04T05:13:07.998985Z",
     "start_time": "2024-10-04T05:13:03.307640Z"
    }
   },
   "cell_type": "code",
   "source": [
    "from time import sleep\n",
    "from selenium import webdriver\n",
    "from selenium.webdriver.common.by import By\n",
    "driver = webdriver.Chrome()\n",
    "driver.get(\"https://www.bilibili.com\")\n",
    "driver.find_elements(By.CLASS_NAME,\"channel-link\")[3].click()\n",
    "sleep(5)\n",
    "driver.quit()"
   ],
   "id": "d3868d8261152447",
   "outputs": [
    {
     "ename": "AttributeError",
     "evalue": "'list' object has no attribute 'click'",
     "output_type": "error",
     "traceback": [
      "\u001B[0;31m---------------------------------------------------------------------------\u001B[0m",
      "\u001B[0;31mAttributeError\u001B[0m                            Traceback (most recent call last)",
      "Cell \u001B[0;32mIn[10], line 11\u001B[0m\n\u001B[1;32m      7\u001B[0m driver\u001B[38;5;241m.\u001B[39mget(\u001B[38;5;124m\"\u001B[39m\u001B[38;5;124mhttps://www.bilibili.com\u001B[39m\u001B[38;5;124m\"\u001B[39m)\n\u001B[1;32m      8\u001B[0m \u001B[38;5;66;03m# driver.find_element(By.ID,'kw').send_keys('hihihi')\u001B[39;00m\n\u001B[1;32m      9\u001B[0m \u001B[38;5;66;03m# driver.find_element(By.ID,'su').click()\u001B[39;00m\n\u001B[1;32m     10\u001B[0m \u001B[38;5;66;03m# driver.find_element(By.CLASS_NAME,\"channel-link\").click()\u001B[39;00m\n\u001B[0;32m---> 11\u001B[0m \u001B[43mdriver\u001B[49m\u001B[38;5;241;43m.\u001B[39;49m\u001B[43mfind_elements\u001B[49m\u001B[43m(\u001B[49m\u001B[43mBy\u001B[49m\u001B[38;5;241;43m.\u001B[39;49m\u001B[43mCLASS_NAME\u001B[49m\u001B[43m,\u001B[49m\u001B[38;5;124;43m\"\u001B[39;49m\u001B[38;5;124;43mchannel-link\u001B[39;49m\u001B[38;5;124;43m\"\u001B[39;49m\u001B[43m)\u001B[49m\u001B[38;5;241;43m.\u001B[39;49m\u001B[43mclick\u001B[49m()\n\u001B[1;32m     12\u001B[0m sleep(\u001B[38;5;241m5\u001B[39m)\n\u001B[1;32m     13\u001B[0m driver\u001B[38;5;241m.\u001B[39mquit()\n",
      "\u001B[0;31mAttributeError\u001B[0m: 'list' object has no attribute 'click'"
     ]
    }
   ],
   "execution_count": 10
  },
  {
   "metadata": {},
   "cell_type": "markdown",
   "source": "byTagName",
   "id": "c6f026f9bafcc3c"
  },
  {
   "metadata": {
    "ExecuteTime": {
     "end_time": "2024-10-04T10:23:21.992020Z",
     "start_time": "2024-10-04T10:23:09.680144Z"
    }
   },
   "cell_type": "code",
   "source": [
    "driver = webdriver.Chrome()\n",
    "driver.get(\"https://www.bilibili.com\")\n",
    "driver.find_element(By.TAG_NAME,\"input\").send_keys(\"hihihi\")\n",
    "driver.find_element(By.CLASS_NAME,\"nav-search-btn\").click()\n",
    "sleep(5)\n",
    "driver.close()"
   ],
   "id": "d6a916e13f276b0e",
   "outputs": [],
   "execution_count": 13
  },
  {
   "metadata": {},
   "cell_type": "markdown",
   "source": "By.LINK_TEXT",
   "id": "d2da1d6037fbf688"
  },
  {
   "metadata": {
    "ExecuteTime": {
     "end_time": "2024-10-06T07:53:49.727664Z",
     "start_time": "2024-10-06T07:52:41.914203Z"
    }
   },
   "cell_type": "code",
   "source": [
    "import time\n",
    "from selenium import webdriver\n",
    "from selenium.webdriver.common.by import By\n",
    "driver = webdriver.Chrome()\n",
    "driver.get(\"https://www.bilibili.com\")\n",
    "driver.maximize_window()\n",
    "# driver.find_element(By.TAG_NAME,\"input\").send_keys(\"hihihi\")\n",
    "driver.find_element(By.LINK_TEXT,\"动画\").click()\n",
    "\n",
    "time.sleep(5)\n",
    "driver.close()"
   ],
   "id": "3fc97118c921fcb2",
   "outputs": [
    {
     "ename": "KeyboardInterrupt",
     "evalue": "",
     "output_type": "error",
     "traceback": [
      "\u001B[0;31m---------------------------------------------------------------------------\u001B[0m",
      "\u001B[0;31mKeyboardInterrupt\u001B[0m                         Traceback (most recent call last)",
      "Cell \u001B[0;32mIn[3], line 4\u001B[0m\n\u001B[1;32m      2\u001B[0m \u001B[38;5;28;01mfrom\u001B[39;00m \u001B[38;5;21;01mselenium\u001B[39;00m \u001B[38;5;28;01mimport\u001B[39;00m webdriver\n\u001B[1;32m      3\u001B[0m \u001B[38;5;28;01mfrom\u001B[39;00m \u001B[38;5;21;01mselenium\u001B[39;00m\u001B[38;5;21;01m.\u001B[39;00m\u001B[38;5;21;01mwebdriver\u001B[39;00m\u001B[38;5;21;01m.\u001B[39;00m\u001B[38;5;21;01mcommon\u001B[39;00m\u001B[38;5;21;01m.\u001B[39;00m\u001B[38;5;21;01mby\u001B[39;00m \u001B[38;5;28;01mimport\u001B[39;00m By\n\u001B[0;32m----> 4\u001B[0m driver \u001B[38;5;241m=\u001B[39m \u001B[43mwebdriver\u001B[49m\u001B[38;5;241;43m.\u001B[39;49m\u001B[43mChrome\u001B[49m\u001B[43m(\u001B[49m\u001B[43m)\u001B[49m\n\u001B[1;32m      5\u001B[0m driver\u001B[38;5;241m.\u001B[39mget(\u001B[38;5;124m\"\u001B[39m\u001B[38;5;124mhttps://www.bilibili.com\u001B[39m\u001B[38;5;124m\"\u001B[39m)\n\u001B[1;32m      6\u001B[0m driver\u001B[38;5;241m.\u001B[39mmaximize_window()\n",
      "File \u001B[0;32m~/PycharmProjects/WebSelenium/.venv/lib/python3.9/site-packages/selenium/webdriver/chrome/webdriver.py:45\u001B[0m, in \u001B[0;36mWebDriver.__init__\u001B[0;34m(self, options, service, keep_alive)\u001B[0m\n\u001B[1;32m     42\u001B[0m service \u001B[38;5;241m=\u001B[39m service \u001B[38;5;28;01mif\u001B[39;00m service \u001B[38;5;28;01melse\u001B[39;00m Service()\n\u001B[1;32m     43\u001B[0m options \u001B[38;5;241m=\u001B[39m options \u001B[38;5;28;01mif\u001B[39;00m options \u001B[38;5;28;01melse\u001B[39;00m Options()\n\u001B[0;32m---> 45\u001B[0m \u001B[38;5;28;43msuper\u001B[39;49m\u001B[43m(\u001B[49m\u001B[43m)\u001B[49m\u001B[38;5;241;43m.\u001B[39;49m\u001B[38;5;21;43m__init__\u001B[39;49m\u001B[43m(\u001B[49m\n\u001B[1;32m     46\u001B[0m \u001B[43m    \u001B[49m\u001B[43mbrowser_name\u001B[49m\u001B[38;5;241;43m=\u001B[39;49m\u001B[43mDesiredCapabilities\u001B[49m\u001B[38;5;241;43m.\u001B[39;49m\u001B[43mCHROME\u001B[49m\u001B[43m[\u001B[49m\u001B[38;5;124;43m\"\u001B[39;49m\u001B[38;5;124;43mbrowserName\u001B[39;49m\u001B[38;5;124;43m\"\u001B[39;49m\u001B[43m]\u001B[49m\u001B[43m,\u001B[49m\n\u001B[1;32m     47\u001B[0m \u001B[43m    \u001B[49m\u001B[43mvendor_prefix\u001B[49m\u001B[38;5;241;43m=\u001B[39;49m\u001B[38;5;124;43m\"\u001B[39;49m\u001B[38;5;124;43mgoog\u001B[39;49m\u001B[38;5;124;43m\"\u001B[39;49m\u001B[43m,\u001B[49m\n\u001B[1;32m     48\u001B[0m \u001B[43m    \u001B[49m\u001B[43moptions\u001B[49m\u001B[38;5;241;43m=\u001B[39;49m\u001B[43moptions\u001B[49m\u001B[43m,\u001B[49m\n\u001B[1;32m     49\u001B[0m \u001B[43m    \u001B[49m\u001B[43mservice\u001B[49m\u001B[38;5;241;43m=\u001B[39;49m\u001B[43mservice\u001B[49m\u001B[43m,\u001B[49m\n\u001B[1;32m     50\u001B[0m \u001B[43m    \u001B[49m\u001B[43mkeep_alive\u001B[49m\u001B[38;5;241;43m=\u001B[39;49m\u001B[43mkeep_alive\u001B[49m\u001B[43m,\u001B[49m\n\u001B[1;32m     51\u001B[0m \u001B[43m\u001B[49m\u001B[43m)\u001B[49m\n",
      "File \u001B[0;32m~/PycharmProjects/WebSelenium/.venv/lib/python3.9/site-packages/selenium/webdriver/chromium/webdriver.py:50\u001B[0m, in \u001B[0;36mChromiumDriver.__init__\u001B[0;34m(self, browser_name, vendor_prefix, options, service, keep_alive)\u001B[0m\n\u001B[1;32m     47\u001B[0m \u001B[38;5;28mself\u001B[39m\u001B[38;5;241m.\u001B[39mservice \u001B[38;5;241m=\u001B[39m service\n\u001B[1;32m     49\u001B[0m finder \u001B[38;5;241m=\u001B[39m DriverFinder(\u001B[38;5;28mself\u001B[39m\u001B[38;5;241m.\u001B[39mservice, options)\n\u001B[0;32m---> 50\u001B[0m \u001B[38;5;28;01mif\u001B[39;00m \u001B[43mfinder\u001B[49m\u001B[38;5;241;43m.\u001B[39;49m\u001B[43mget_browser_path\u001B[49m\u001B[43m(\u001B[49m\u001B[43m)\u001B[49m:\n\u001B[1;32m     51\u001B[0m     options\u001B[38;5;241m.\u001B[39mbinary_location \u001B[38;5;241m=\u001B[39m finder\u001B[38;5;241m.\u001B[39mget_browser_path()\n\u001B[1;32m     52\u001B[0m     options\u001B[38;5;241m.\u001B[39mbrowser_version \u001B[38;5;241m=\u001B[39m \u001B[38;5;28;01mNone\u001B[39;00m\n",
      "File \u001B[0;32m~/PycharmProjects/WebSelenium/.venv/lib/python3.9/site-packages/selenium/webdriver/common/driver_finder.py:47\u001B[0m, in \u001B[0;36mDriverFinder.get_browser_path\u001B[0;34m(self)\u001B[0m\n\u001B[1;32m     46\u001B[0m \u001B[38;5;28;01mdef\u001B[39;00m \u001B[38;5;21mget_browser_path\u001B[39m(\u001B[38;5;28mself\u001B[39m) \u001B[38;5;241m-\u001B[39m\u001B[38;5;241m>\u001B[39m \u001B[38;5;28mstr\u001B[39m:\n\u001B[0;32m---> 47\u001B[0m     \u001B[38;5;28;01mreturn\u001B[39;00m \u001B[38;5;28;43mself\u001B[39;49m\u001B[38;5;241;43m.\u001B[39;49m\u001B[43m_binary_paths\u001B[49m\u001B[43m(\u001B[49m\u001B[43m)\u001B[49m[\u001B[38;5;124m\"\u001B[39m\u001B[38;5;124mbrowser_path\u001B[39m\u001B[38;5;124m\"\u001B[39m]\n",
      "File \u001B[0;32m~/PycharmProjects/WebSelenium/.venv/lib/python3.9/site-packages/selenium/webdriver/common/driver_finder.py:67\u001B[0m, in \u001B[0;36mDriverFinder._binary_paths\u001B[0;34m(self)\u001B[0m\n\u001B[1;32m     65\u001B[0m     \u001B[38;5;28mself\u001B[39m\u001B[38;5;241m.\u001B[39m_paths[\u001B[38;5;124m\"\u001B[39m\u001B[38;5;124mdriver_path\u001B[39m\u001B[38;5;124m\"\u001B[39m] \u001B[38;5;241m=\u001B[39m path\n\u001B[1;32m     66\u001B[0m \u001B[38;5;28;01melse\u001B[39;00m:\n\u001B[0;32m---> 67\u001B[0m     output \u001B[38;5;241m=\u001B[39m \u001B[43mSeleniumManager\u001B[49m\u001B[43m(\u001B[49m\u001B[43m)\u001B[49m\u001B[38;5;241;43m.\u001B[39;49m\u001B[43mbinary_paths\u001B[49m\u001B[43m(\u001B[49m\u001B[38;5;28;43mself\u001B[39;49m\u001B[38;5;241;43m.\u001B[39;49m\u001B[43m_to_args\u001B[49m\u001B[43m(\u001B[49m\u001B[43m)\u001B[49m\u001B[43m)\u001B[49m\n\u001B[1;32m     68\u001B[0m     \u001B[38;5;28;01mif\u001B[39;00m Path(output[\u001B[38;5;124m\"\u001B[39m\u001B[38;5;124mdriver_path\u001B[39m\u001B[38;5;124m\"\u001B[39m])\u001B[38;5;241m.\u001B[39mis_file():\n\u001B[1;32m     69\u001B[0m         \u001B[38;5;28mself\u001B[39m\u001B[38;5;241m.\u001B[39m_paths[\u001B[38;5;124m\"\u001B[39m\u001B[38;5;124mdriver_path\u001B[39m\u001B[38;5;124m\"\u001B[39m] \u001B[38;5;241m=\u001B[39m output[\u001B[38;5;124m\"\u001B[39m\u001B[38;5;124mdriver_path\u001B[39m\u001B[38;5;124m\"\u001B[39m]\n",
      "File \u001B[0;32m~/PycharmProjects/WebSelenium/.venv/lib/python3.9/site-packages/selenium/webdriver/common/selenium_manager.py:55\u001B[0m, in \u001B[0;36mSeleniumManager.binary_paths\u001B[0;34m(self, args)\u001B[0m\n\u001B[1;32m     52\u001B[0m args\u001B[38;5;241m.\u001B[39mappend(\u001B[38;5;124m\"\u001B[39m\u001B[38;5;124m--output\u001B[39m\u001B[38;5;124m\"\u001B[39m)\n\u001B[1;32m     53\u001B[0m args\u001B[38;5;241m.\u001B[39mappend(\u001B[38;5;124m\"\u001B[39m\u001B[38;5;124mjson\u001B[39m\u001B[38;5;124m\"\u001B[39m)\n\u001B[0;32m---> 55\u001B[0m \u001B[38;5;28;01mreturn\u001B[39;00m \u001B[38;5;28;43mself\u001B[39;49m\u001B[38;5;241;43m.\u001B[39;49m\u001B[43m_run\u001B[49m\u001B[43m(\u001B[49m\u001B[43margs\u001B[49m\u001B[43m)\u001B[49m\n",
      "File \u001B[0;32m~/PycharmProjects/WebSelenium/.venv/lib/python3.9/site-packages/selenium/webdriver/common/selenium_manager.py:119\u001B[0m, in \u001B[0;36mSeleniumManager._run\u001B[0;34m(args)\u001B[0m\n\u001B[1;32m    117\u001B[0m     completed_proc \u001B[38;5;241m=\u001B[39m subprocess\u001B[38;5;241m.\u001B[39mrun(args, capture_output\u001B[38;5;241m=\u001B[39m\u001B[38;5;28;01mTrue\u001B[39;00m, creationflags\u001B[38;5;241m=\u001B[39msubprocess\u001B[38;5;241m.\u001B[39mCREATE_NO_WINDOW)\n\u001B[1;32m    118\u001B[0m \u001B[38;5;28;01melse\u001B[39;00m:\n\u001B[0;32m--> 119\u001B[0m     completed_proc \u001B[38;5;241m=\u001B[39m \u001B[43msubprocess\u001B[49m\u001B[38;5;241;43m.\u001B[39;49m\u001B[43mrun\u001B[49m\u001B[43m(\u001B[49m\u001B[43margs\u001B[49m\u001B[43m,\u001B[49m\u001B[43m \u001B[49m\u001B[43mcapture_output\u001B[49m\u001B[38;5;241;43m=\u001B[39;49m\u001B[38;5;28;43;01mTrue\u001B[39;49;00m\u001B[43m)\u001B[49m\n\u001B[1;32m    120\u001B[0m stdout \u001B[38;5;241m=\u001B[39m completed_proc\u001B[38;5;241m.\u001B[39mstdout\u001B[38;5;241m.\u001B[39mdecode(\u001B[38;5;124m\"\u001B[39m\u001B[38;5;124mutf-8\u001B[39m\u001B[38;5;124m\"\u001B[39m)\u001B[38;5;241m.\u001B[39mrstrip(\u001B[38;5;124m\"\u001B[39m\u001B[38;5;130;01m\\n\u001B[39;00m\u001B[38;5;124m\"\u001B[39m)\n\u001B[1;32m    121\u001B[0m stderr \u001B[38;5;241m=\u001B[39m completed_proc\u001B[38;5;241m.\u001B[39mstderr\u001B[38;5;241m.\u001B[39mdecode(\u001B[38;5;124m\"\u001B[39m\u001B[38;5;124mutf-8\u001B[39m\u001B[38;5;124m\"\u001B[39m)\u001B[38;5;241m.\u001B[39mrstrip(\u001B[38;5;124m\"\u001B[39m\u001B[38;5;130;01m\\n\u001B[39;00m\u001B[38;5;124m\"\u001B[39m)\n",
      "File \u001B[0;32m/usr/local/Cellar/python@3.9/3.9.19_1/Frameworks/Python.framework/Versions/3.9/lib/python3.9/subprocess.py:507\u001B[0m, in \u001B[0;36mrun\u001B[0;34m(input, capture_output, timeout, check, *popenargs, **kwargs)\u001B[0m\n\u001B[1;32m    505\u001B[0m \u001B[38;5;28;01mwith\u001B[39;00m Popen(\u001B[38;5;241m*\u001B[39mpopenargs, \u001B[38;5;241m*\u001B[39m\u001B[38;5;241m*\u001B[39mkwargs) \u001B[38;5;28;01mas\u001B[39;00m process:\n\u001B[1;32m    506\u001B[0m     \u001B[38;5;28;01mtry\u001B[39;00m:\n\u001B[0;32m--> 507\u001B[0m         stdout, stderr \u001B[38;5;241m=\u001B[39m \u001B[43mprocess\u001B[49m\u001B[38;5;241;43m.\u001B[39;49m\u001B[43mcommunicate\u001B[49m\u001B[43m(\u001B[49m\u001B[38;5;28;43minput\u001B[39;49m\u001B[43m,\u001B[49m\u001B[43m \u001B[49m\u001B[43mtimeout\u001B[49m\u001B[38;5;241;43m=\u001B[39;49m\u001B[43mtimeout\u001B[49m\u001B[43m)\u001B[49m\n\u001B[1;32m    508\u001B[0m     \u001B[38;5;28;01mexcept\u001B[39;00m TimeoutExpired \u001B[38;5;28;01mas\u001B[39;00m exc:\n\u001B[1;32m    509\u001B[0m         process\u001B[38;5;241m.\u001B[39mkill()\n",
      "File \u001B[0;32m/usr/local/Cellar/python@3.9/3.9.19_1/Frameworks/Python.framework/Versions/3.9/lib/python3.9/subprocess.py:1134\u001B[0m, in \u001B[0;36mPopen.communicate\u001B[0;34m(self, input, timeout)\u001B[0m\n\u001B[1;32m   1131\u001B[0m     endtime \u001B[38;5;241m=\u001B[39m \u001B[38;5;28;01mNone\u001B[39;00m\n\u001B[1;32m   1133\u001B[0m \u001B[38;5;28;01mtry\u001B[39;00m:\n\u001B[0;32m-> 1134\u001B[0m     stdout, stderr \u001B[38;5;241m=\u001B[39m \u001B[38;5;28;43mself\u001B[39;49m\u001B[38;5;241;43m.\u001B[39;49m\u001B[43m_communicate\u001B[49m\u001B[43m(\u001B[49m\u001B[38;5;28;43minput\u001B[39;49m\u001B[43m,\u001B[49m\u001B[43m \u001B[49m\u001B[43mendtime\u001B[49m\u001B[43m,\u001B[49m\u001B[43m \u001B[49m\u001B[43mtimeout\u001B[49m\u001B[43m)\u001B[49m\n\u001B[1;32m   1135\u001B[0m \u001B[38;5;28;01mexcept\u001B[39;00m \u001B[38;5;167;01mKeyboardInterrupt\u001B[39;00m:\n\u001B[1;32m   1136\u001B[0m     \u001B[38;5;66;03m# https://bugs.python.org/issue25942\u001B[39;00m\n\u001B[1;32m   1137\u001B[0m     \u001B[38;5;66;03m# See the detailed comment in .wait().\u001B[39;00m\n\u001B[1;32m   1138\u001B[0m     \u001B[38;5;28;01mif\u001B[39;00m timeout \u001B[38;5;129;01mis\u001B[39;00m \u001B[38;5;129;01mnot\u001B[39;00m \u001B[38;5;28;01mNone\u001B[39;00m:\n",
      "File \u001B[0;32m/usr/local/Cellar/python@3.9/3.9.19_1/Frameworks/Python.framework/Versions/3.9/lib/python3.9/subprocess.py:1995\u001B[0m, in \u001B[0;36mPopen._communicate\u001B[0;34m(self, input, endtime, orig_timeout)\u001B[0m\n\u001B[1;32m   1988\u001B[0m     \u001B[38;5;28mself\u001B[39m\u001B[38;5;241m.\u001B[39m_check_timeout(endtime, orig_timeout,\n\u001B[1;32m   1989\u001B[0m                         stdout, stderr,\n\u001B[1;32m   1990\u001B[0m                         skip_check_and_raise\u001B[38;5;241m=\u001B[39m\u001B[38;5;28;01mTrue\u001B[39;00m)\n\u001B[1;32m   1991\u001B[0m     \u001B[38;5;28;01mraise\u001B[39;00m \u001B[38;5;167;01mRuntimeError\u001B[39;00m(  \u001B[38;5;66;03m# Impossible :)\u001B[39;00m\n\u001B[1;32m   1992\u001B[0m         \u001B[38;5;124m'\u001B[39m\u001B[38;5;124m_check_timeout(..., skip_check_and_raise=True) \u001B[39m\u001B[38;5;124m'\u001B[39m\n\u001B[1;32m   1993\u001B[0m         \u001B[38;5;124m'\u001B[39m\u001B[38;5;124mfailed to raise TimeoutExpired.\u001B[39m\u001B[38;5;124m'\u001B[39m)\n\u001B[0;32m-> 1995\u001B[0m ready \u001B[38;5;241m=\u001B[39m \u001B[43mselector\u001B[49m\u001B[38;5;241;43m.\u001B[39;49m\u001B[43mselect\u001B[49m\u001B[43m(\u001B[49m\u001B[43mtimeout\u001B[49m\u001B[43m)\u001B[49m\n\u001B[1;32m   1996\u001B[0m \u001B[38;5;28mself\u001B[39m\u001B[38;5;241m.\u001B[39m_check_timeout(endtime, orig_timeout, stdout, stderr)\n\u001B[1;32m   1998\u001B[0m \u001B[38;5;66;03m# XXX Rewrite these to use non-blocking I/O on the file\u001B[39;00m\n\u001B[1;32m   1999\u001B[0m \u001B[38;5;66;03m# objects; they are no longer using C stdio!\u001B[39;00m\n",
      "File \u001B[0;32m/usr/local/Cellar/python@3.9/3.9.19_1/Frameworks/Python.framework/Versions/3.9/lib/python3.9/selectors.py:416\u001B[0m, in \u001B[0;36m_PollLikeSelector.select\u001B[0;34m(self, timeout)\u001B[0m\n\u001B[1;32m    414\u001B[0m ready \u001B[38;5;241m=\u001B[39m []\n\u001B[1;32m    415\u001B[0m \u001B[38;5;28;01mtry\u001B[39;00m:\n\u001B[0;32m--> 416\u001B[0m     fd_event_list \u001B[38;5;241m=\u001B[39m \u001B[38;5;28;43mself\u001B[39;49m\u001B[38;5;241;43m.\u001B[39;49m\u001B[43m_selector\u001B[49m\u001B[38;5;241;43m.\u001B[39;49m\u001B[43mpoll\u001B[49m\u001B[43m(\u001B[49m\u001B[43mtimeout\u001B[49m\u001B[43m)\u001B[49m\n\u001B[1;32m    417\u001B[0m \u001B[38;5;28;01mexcept\u001B[39;00m \u001B[38;5;167;01mInterruptedError\u001B[39;00m:\n\u001B[1;32m    418\u001B[0m     \u001B[38;5;28;01mreturn\u001B[39;00m ready\n",
      "\u001B[0;31mKeyboardInterrupt\u001B[0m: "
     ]
    }
   ],
   "execution_count": 3
  },
  {
   "metadata": {},
   "cell_type": "markdown",
   "source": "By.CSS_SELECTOR",
   "id": "1527946023a3299f"
  },
  {
   "metadata": {
    "ExecuteTime": {
     "end_time": "2024-10-06T07:57:50.263831Z",
     "start_time": "2024-10-06T07:57:22.775212Z"
    }
   },
   "cell_type": "code",
   "source": [
    "import time\n",
    "from selenium import webdriver\n",
    "from selenium.webdriver.common.by import By\n",
    "driver = webdriver.Chrome()\n",
    "# driver.get(\"https://www.bilibili.com\")\n",
    "driver.get(\"https://www.baidu.com\")\n",
    "driver.maximize_window()\n",
    "#根据name属性定位\n",
    "# driver.find_element(By.CSS_SELECTOR,'[name=\"wd\"]').send_keys(\"hihihi\")\n",
    "#根据class属性定位\n",
    "# driver.find_element(By.CSS_SELECTOR,'.class').send_keys(\"hihihi\")\n",
    "#根据id属性定位\n",
    "# driver.find_element(By.CSS_SELECTOR,'#id').send_keys(\"hihihi\")\n",
    "#根据tag属性定位(此例为标签+元素）\n",
    "# driver.find_element(By.CSS_SELECTOR,\"a[href='http://news.baidu.com']\").click()\n",
    "#模糊匹配——包含 *\n",
    "# driver.find_element(By.CSS_SELECTOR,\"a[href*='news.baidu']\").click()\n",
    "#模糊匹配——开头 ^\n",
    "# driver.find_element(By.CSS_SELECTOR,\"a[href^='http://news']\").click()\n",
    "#模糊匹配——结尾 $\n",
    "# driver.find_element(By.CSS_SELECTOR,\"a[href$='news.baidu.com']\").click()\n",
    "#组合定位\n",
    "# driver.find_element(By.CSS_SELECTOR,\"input[autocomplete='off']\").send_keys('hi')\n",
    "#定位子元素\n",
    "driver.find_element(By.CSS_SELECTOR,\"div#s-top-left>a:nth-child(4)\").click()\n",
    "time.sleep(5)\n",
    "\n",
    "driver.quit()"
   ],
   "id": "d25e5c7aca30d93b",
   "outputs": [],
   "execution_count": 4
  },
  {
   "metadata": {},
   "cell_type": "markdown",
   "source": "by XPATH",
   "id": "377ecdba228a997c"
  },
  {
   "metadata": {
    "ExecuteTime": {
     "end_time": "2024-10-06T08:35:18.745857Z",
     "start_time": "2024-10-06T08:34:53.463764Z"
    }
   },
   "cell_type": "code",
   "source": [
    "import time\n",
    "from selenium import webdriver\n",
    "from selenium.webdriver.common.by import By\n",
    "driver = webdriver.Chrome()\n",
    "# driver.get(\"https://www.bilibili.com\")\n",
    "driver.get(\"https://www.baidu.com\")\n",
    "driver.maximize_window()\n",
    "#绝对路径\n",
    "driver.find_element(By.XPATH,\"/html/body/div/div/div[3]/a\").click()\n",
    "#根据ID定位\n",
    "driver.find_element(By.XPATH,'//input[@id=\"kw\"]').send_keys(\"selenium\")\n",
    "#根据class定位\n",
    "driver.find_element(By.XPATH,'//input[@class=\"s_ipt\"]').send_keys(\"selenium\")\n",
    "#根据name定位\n",
    "driver.find_element(By.XPATH,'//input[@name=\"wd\"]').send_keys(\"selenium\")\n",
    "#多个属性组合定位 and\n",
    "driver.find_element(By.XPATH,'//input[@name=\"wd\" and @class=\"s_ipt\"]').click()\n",
    "#多组数据使用下标定位\n",
    "driver.find_element(By.XPATH,'//div[@id=\"s-top-Left\"]/a[4]').click()\n",
    "#通过子元素找父元素 ..\n",
    "driver.find_element(By.XPATH,'//div[@id=\"s-top-Left\"]/../div[3]').click()\n",
    "time.sleep(5)\n",
    "driver.quit()"
   ],
   "id": "e5a65908d2b84dcc",
   "outputs": [],
   "execution_count": 5
  },
  {
   "metadata": {},
   "cell_type": "markdown",
   "source": "alert弹框",
   "id": "2bf45687cc48cb4d"
  },
  {
   "metadata": {
    "ExecuteTime": {
     "end_time": "2024-10-07T07:48:43.369472Z",
     "start_time": "2024-10-07T07:47:47.621178Z"
    }
   },
   "cell_type": "code",
   "source": [
    "driver = webdriver.Chrome() \n",
    "driver.maximize_window()\n",
    "# driver.get(\"https://sahitest.com/demo/alertTest.htm\") \n",
    "# driver.get(\"https://sahitest.com/demo/confirmTest.htm\") \n",
    "driver.get(\"https://sahitest.com/demo/promptTest.htm\") \n",
    "driver.find_element(By.NAME,'b1').click() \n",
    "#使用alert.text获取弹框的文字\n",
    "print(driver.switch_to.alert.text)\n",
    "\n",
    "time.sleep(2)\n",
    "#点击弹窗的确定\n",
    "# driver.switch_to.alert.accept()\n",
    "#点击取消\n",
    "# driver.switch_to.alert.dismiss()\n",
    "#输入后取消\n",
    "driver.switch_to.alert.send_keys(\"hihihi\")\n",
    "driver.switch_to.alert.accept()\n",
    "time.sleep(3)\n",
    "driver.quit()\n"
   ],
   "id": "7dbd8664e326b61d",
   "outputs": [
    {
     "name": "stdout",
     "output_type": "stream",
     "text": [
      "Some prompt?\n"
     ]
    }
   ],
   "execution_count": 11
  },
  {
   "metadata": {},
   "cell_type": "markdown",
   "source": [
    "file upload.\n",
    "这边我新建utils包创建了一个get_path.py的文件用来将绝对路径换成变量。如果有新文件的话可以在join的函数后面进行修改（那个东西放到file文件家里了）\n"
   ],
   "id": "9a3ca5cca9117ec8"
  },
  {
   "metadata": {
    "ExecuteTime": {
     "end_time": "2024-10-07T10:24:51.567036Z",
     "start_time": "2024-10-07T10:24:40.321743Z"
    }
   },
   "cell_type": "code",
   "source": [
    "from utils.get_path import get_path\n",
    "\n",
    "driver = webdriver.Chrome() \n",
    "driver.maximize_window()\n",
    "\n",
    "driver.get('https://sahitest.com/demo/php/fileUpload.htm')\n",
    "#获取input文件上传元素\n",
    "path = get_path()\n",
    "driver.find_element(By.ID,'file').send_keys(f'{path}')\n",
    "time.sleep(1)\n",
    "driver.find_element(By.XPATH,'/html/body/form[1]/input[3]').click()\n",
    "\n",
    "time.sleep(3)\n",
    "driver.quit()\n"
   ],
   "id": "c5f286cb3cc34617",
   "outputs": [
    {
     "ename": "RemoteDisconnected",
     "evalue": "Remote end closed connection without response",
     "output_type": "error",
     "traceback": [
      "\u001B[0;31m---------------------------------------------------------------------------\u001B[0m",
      "\u001B[0;31mRemoteDisconnected\u001B[0m                        Traceback (most recent call last)",
      "Cell \u001B[0;32mIn[30], line 14\u001B[0m\n\u001B[1;32m     11\u001B[0m driver\u001B[38;5;241m.\u001B[39mfind_element(By\u001B[38;5;241m.\u001B[39mXPATH,\u001B[38;5;124m'\u001B[39m\u001B[38;5;124m/html/body/form[1]/input[3]\u001B[39m\u001B[38;5;124m'\u001B[39m)\u001B[38;5;241m.\u001B[39mclick()\n\u001B[1;32m     13\u001B[0m time\u001B[38;5;241m.\u001B[39msleep(\u001B[38;5;241m3\u001B[39m)\n\u001B[0;32m---> 14\u001B[0m \u001B[43mdriver\u001B[49m\u001B[38;5;241;43m.\u001B[39;49m\u001B[43mquit\u001B[49m\u001B[43m(\u001B[49m\u001B[43m)\u001B[49m\n",
      "File \u001B[0;32m~/PycharmProjects/WebSelenium/.venv/lib/python3.9/site-packages/selenium/webdriver/chromium/webdriver.py:193\u001B[0m, in \u001B[0;36mChromiumDriver.quit\u001B[0;34m(self)\u001B[0m\n\u001B[1;32m    191\u001B[0m     \u001B[38;5;28;01mpass\u001B[39;00m\n\u001B[1;32m    192\u001B[0m \u001B[38;5;28;01mfinally\u001B[39;00m:\n\u001B[0;32m--> 193\u001B[0m     \u001B[38;5;28;43mself\u001B[39;49m\u001B[38;5;241;43m.\u001B[39;49m\u001B[43mservice\u001B[49m\u001B[38;5;241;43m.\u001B[39;49m\u001B[43mstop\u001B[49m\u001B[43m(\u001B[49m\u001B[43m)\u001B[49m\n",
      "File \u001B[0;32m~/PycharmProjects/WebSelenium/.venv/lib/python3.9/site-packages/selenium/webdriver/common/service.py:149\u001B[0m, in \u001B[0;36mService.stop\u001B[0;34m(self)\u001B[0m\n\u001B[1;32m    147\u001B[0m \u001B[38;5;28;01mif\u001B[39;00m \u001B[38;5;28mself\u001B[39m\u001B[38;5;241m.\u001B[39mprocess \u001B[38;5;129;01mis\u001B[39;00m \u001B[38;5;129;01mnot\u001B[39;00m \u001B[38;5;28;01mNone\u001B[39;00m:\n\u001B[1;32m    148\u001B[0m     \u001B[38;5;28;01mtry\u001B[39;00m:\n\u001B[0;32m--> 149\u001B[0m         \u001B[38;5;28;43mself\u001B[39;49m\u001B[38;5;241;43m.\u001B[39;49m\u001B[43msend_remote_shutdown_command\u001B[49m\u001B[43m(\u001B[49m\u001B[43m)\u001B[49m\n\u001B[1;32m    150\u001B[0m     \u001B[38;5;28;01mexcept\u001B[39;00m \u001B[38;5;167;01mTypeError\u001B[39;00m:\n\u001B[1;32m    151\u001B[0m         \u001B[38;5;28;01mpass\u001B[39;00m\n",
      "File \u001B[0;32m~/PycharmProjects/WebSelenium/.venv/lib/python3.9/site-packages/selenium/webdriver/common/service.py:129\u001B[0m, in \u001B[0;36mService.send_remote_shutdown_command\u001B[0;34m(self)\u001B[0m\n\u001B[1;32m    126\u001B[0m \u001B[38;5;250m\u001B[39m\u001B[38;5;124;03m\"\"\"Dispatch an HTTP request to the shutdown endpoint for the service in\u001B[39;00m\n\u001B[1;32m    127\u001B[0m \u001B[38;5;124;03man attempt to stop it.\"\"\"\u001B[39;00m\n\u001B[1;32m    128\u001B[0m \u001B[38;5;28;01mtry\u001B[39;00m:\n\u001B[0;32m--> 129\u001B[0m     \u001B[43mrequest\u001B[49m\u001B[38;5;241;43m.\u001B[39;49m\u001B[43murlopen\u001B[49m\u001B[43m(\u001B[49m\u001B[38;5;124;43mf\u001B[39;49m\u001B[38;5;124;43m\"\u001B[39;49m\u001B[38;5;132;43;01m{\u001B[39;49;00m\u001B[38;5;28;43mself\u001B[39;49m\u001B[38;5;241;43m.\u001B[39;49m\u001B[43mservice_url\u001B[49m\u001B[38;5;132;43;01m}\u001B[39;49;00m\u001B[38;5;124;43m/shutdown\u001B[39;49m\u001B[38;5;124;43m\"\u001B[39;49m\u001B[43m)\u001B[49m\n\u001B[1;32m    130\u001B[0m \u001B[38;5;28;01mexcept\u001B[39;00m URLError:\n\u001B[1;32m    131\u001B[0m     \u001B[38;5;28;01mreturn\u001B[39;00m\n",
      "File \u001B[0;32m/usr/local/Cellar/python@3.9/3.9.19_1/Frameworks/Python.framework/Versions/3.9/lib/python3.9/urllib/request.py:214\u001B[0m, in \u001B[0;36murlopen\u001B[0;34m(url, data, timeout, cafile, capath, cadefault, context)\u001B[0m\n\u001B[1;32m    212\u001B[0m \u001B[38;5;28;01melse\u001B[39;00m:\n\u001B[1;32m    213\u001B[0m     opener \u001B[38;5;241m=\u001B[39m _opener\n\u001B[0;32m--> 214\u001B[0m \u001B[38;5;28;01mreturn\u001B[39;00m \u001B[43mopener\u001B[49m\u001B[38;5;241;43m.\u001B[39;49m\u001B[43mopen\u001B[49m\u001B[43m(\u001B[49m\u001B[43murl\u001B[49m\u001B[43m,\u001B[49m\u001B[43m \u001B[49m\u001B[43mdata\u001B[49m\u001B[43m,\u001B[49m\u001B[43m \u001B[49m\u001B[43mtimeout\u001B[49m\u001B[43m)\u001B[49m\n",
      "File \u001B[0;32m/usr/local/Cellar/python@3.9/3.9.19_1/Frameworks/Python.framework/Versions/3.9/lib/python3.9/urllib/request.py:517\u001B[0m, in \u001B[0;36mOpenerDirector.open\u001B[0;34m(self, fullurl, data, timeout)\u001B[0m\n\u001B[1;32m    514\u001B[0m     req \u001B[38;5;241m=\u001B[39m meth(req)\n\u001B[1;32m    516\u001B[0m sys\u001B[38;5;241m.\u001B[39maudit(\u001B[38;5;124m'\u001B[39m\u001B[38;5;124murllib.Request\u001B[39m\u001B[38;5;124m'\u001B[39m, req\u001B[38;5;241m.\u001B[39mfull_url, req\u001B[38;5;241m.\u001B[39mdata, req\u001B[38;5;241m.\u001B[39mheaders, req\u001B[38;5;241m.\u001B[39mget_method())\n\u001B[0;32m--> 517\u001B[0m response \u001B[38;5;241m=\u001B[39m \u001B[38;5;28;43mself\u001B[39;49m\u001B[38;5;241;43m.\u001B[39;49m\u001B[43m_open\u001B[49m\u001B[43m(\u001B[49m\u001B[43mreq\u001B[49m\u001B[43m,\u001B[49m\u001B[43m \u001B[49m\u001B[43mdata\u001B[49m\u001B[43m)\u001B[49m\n\u001B[1;32m    519\u001B[0m \u001B[38;5;66;03m# post-process response\u001B[39;00m\n\u001B[1;32m    520\u001B[0m meth_name \u001B[38;5;241m=\u001B[39m protocol\u001B[38;5;241m+\u001B[39m\u001B[38;5;124m\"\u001B[39m\u001B[38;5;124m_response\u001B[39m\u001B[38;5;124m\"\u001B[39m\n",
      "File \u001B[0;32m/usr/local/Cellar/python@3.9/3.9.19_1/Frameworks/Python.framework/Versions/3.9/lib/python3.9/urllib/request.py:534\u001B[0m, in \u001B[0;36mOpenerDirector._open\u001B[0;34m(self, req, data)\u001B[0m\n\u001B[1;32m    531\u001B[0m     \u001B[38;5;28;01mreturn\u001B[39;00m result\n\u001B[1;32m    533\u001B[0m protocol \u001B[38;5;241m=\u001B[39m req\u001B[38;5;241m.\u001B[39mtype\n\u001B[0;32m--> 534\u001B[0m result \u001B[38;5;241m=\u001B[39m \u001B[38;5;28;43mself\u001B[39;49m\u001B[38;5;241;43m.\u001B[39;49m\u001B[43m_call_chain\u001B[49m\u001B[43m(\u001B[49m\u001B[38;5;28;43mself\u001B[39;49m\u001B[38;5;241;43m.\u001B[39;49m\u001B[43mhandle_open\u001B[49m\u001B[43m,\u001B[49m\u001B[43m \u001B[49m\u001B[43mprotocol\u001B[49m\u001B[43m,\u001B[49m\u001B[43m \u001B[49m\u001B[43mprotocol\u001B[49m\u001B[43m \u001B[49m\u001B[38;5;241;43m+\u001B[39;49m\n\u001B[1;32m    535\u001B[0m \u001B[43m                          \u001B[49m\u001B[38;5;124;43m'\u001B[39;49m\u001B[38;5;124;43m_open\u001B[39;49m\u001B[38;5;124;43m'\u001B[39;49m\u001B[43m,\u001B[49m\u001B[43m \u001B[49m\u001B[43mreq\u001B[49m\u001B[43m)\u001B[49m\n\u001B[1;32m    536\u001B[0m \u001B[38;5;28;01mif\u001B[39;00m result:\n\u001B[1;32m    537\u001B[0m     \u001B[38;5;28;01mreturn\u001B[39;00m result\n",
      "File \u001B[0;32m/usr/local/Cellar/python@3.9/3.9.19_1/Frameworks/Python.framework/Versions/3.9/lib/python3.9/urllib/request.py:494\u001B[0m, in \u001B[0;36mOpenerDirector._call_chain\u001B[0;34m(self, chain, kind, meth_name, *args)\u001B[0m\n\u001B[1;32m    492\u001B[0m \u001B[38;5;28;01mfor\u001B[39;00m handler \u001B[38;5;129;01min\u001B[39;00m handlers:\n\u001B[1;32m    493\u001B[0m     func \u001B[38;5;241m=\u001B[39m \u001B[38;5;28mgetattr\u001B[39m(handler, meth_name)\n\u001B[0;32m--> 494\u001B[0m     result \u001B[38;5;241m=\u001B[39m \u001B[43mfunc\u001B[49m\u001B[43m(\u001B[49m\u001B[38;5;241;43m*\u001B[39;49m\u001B[43margs\u001B[49m\u001B[43m)\u001B[49m\n\u001B[1;32m    495\u001B[0m     \u001B[38;5;28;01mif\u001B[39;00m result \u001B[38;5;129;01mis\u001B[39;00m \u001B[38;5;129;01mnot\u001B[39;00m \u001B[38;5;28;01mNone\u001B[39;00m:\n\u001B[1;32m    496\u001B[0m         \u001B[38;5;28;01mreturn\u001B[39;00m result\n",
      "File \u001B[0;32m/usr/local/Cellar/python@3.9/3.9.19_1/Frameworks/Python.framework/Versions/3.9/lib/python3.9/urllib/request.py:1375\u001B[0m, in \u001B[0;36mHTTPHandler.http_open\u001B[0;34m(self, req)\u001B[0m\n\u001B[1;32m   1374\u001B[0m \u001B[38;5;28;01mdef\u001B[39;00m \u001B[38;5;21mhttp_open\u001B[39m(\u001B[38;5;28mself\u001B[39m, req):\n\u001B[0;32m-> 1375\u001B[0m     \u001B[38;5;28;01mreturn\u001B[39;00m \u001B[38;5;28;43mself\u001B[39;49m\u001B[38;5;241;43m.\u001B[39;49m\u001B[43mdo_open\u001B[49m\u001B[43m(\u001B[49m\u001B[43mhttp\u001B[49m\u001B[38;5;241;43m.\u001B[39;49m\u001B[43mclient\u001B[49m\u001B[38;5;241;43m.\u001B[39;49m\u001B[43mHTTPConnection\u001B[49m\u001B[43m,\u001B[49m\u001B[43m \u001B[49m\u001B[43mreq\u001B[49m\u001B[43m)\u001B[49m\n",
      "File \u001B[0;32m/usr/local/Cellar/python@3.9/3.9.19_1/Frameworks/Python.framework/Versions/3.9/lib/python3.9/urllib/request.py:1350\u001B[0m, in \u001B[0;36mAbstractHTTPHandler.do_open\u001B[0;34m(self, http_class, req, **http_conn_args)\u001B[0m\n\u001B[1;32m   1348\u001B[0m     \u001B[38;5;28;01mexcept\u001B[39;00m \u001B[38;5;167;01mOSError\u001B[39;00m \u001B[38;5;28;01mas\u001B[39;00m err: \u001B[38;5;66;03m# timeout error\u001B[39;00m\n\u001B[1;32m   1349\u001B[0m         \u001B[38;5;28;01mraise\u001B[39;00m URLError(err)\n\u001B[0;32m-> 1350\u001B[0m     r \u001B[38;5;241m=\u001B[39m \u001B[43mh\u001B[49m\u001B[38;5;241;43m.\u001B[39;49m\u001B[43mgetresponse\u001B[49m\u001B[43m(\u001B[49m\u001B[43m)\u001B[49m\n\u001B[1;32m   1351\u001B[0m \u001B[38;5;28;01mexcept\u001B[39;00m:\n\u001B[1;32m   1352\u001B[0m     h\u001B[38;5;241m.\u001B[39mclose()\n",
      "File \u001B[0;32m/usr/local/Cellar/python@3.9/3.9.19_1/Frameworks/Python.framework/Versions/3.9/lib/python3.9/http/client.py:1377\u001B[0m, in \u001B[0;36mHTTPConnection.getresponse\u001B[0;34m(self)\u001B[0m\n\u001B[1;32m   1375\u001B[0m \u001B[38;5;28;01mtry\u001B[39;00m:\n\u001B[1;32m   1376\u001B[0m     \u001B[38;5;28;01mtry\u001B[39;00m:\n\u001B[0;32m-> 1377\u001B[0m         \u001B[43mresponse\u001B[49m\u001B[38;5;241;43m.\u001B[39;49m\u001B[43mbegin\u001B[49m\u001B[43m(\u001B[49m\u001B[43m)\u001B[49m\n\u001B[1;32m   1378\u001B[0m     \u001B[38;5;28;01mexcept\u001B[39;00m \u001B[38;5;167;01mConnectionError\u001B[39;00m:\n\u001B[1;32m   1379\u001B[0m         \u001B[38;5;28mself\u001B[39m\u001B[38;5;241m.\u001B[39mclose()\n",
      "File \u001B[0;32m/usr/local/Cellar/python@3.9/3.9.19_1/Frameworks/Python.framework/Versions/3.9/lib/python3.9/http/client.py:320\u001B[0m, in \u001B[0;36mHTTPResponse.begin\u001B[0;34m(self)\u001B[0m\n\u001B[1;32m    318\u001B[0m \u001B[38;5;66;03m# read until we get a non-100 response\u001B[39;00m\n\u001B[1;32m    319\u001B[0m \u001B[38;5;28;01mwhile\u001B[39;00m \u001B[38;5;28;01mTrue\u001B[39;00m:\n\u001B[0;32m--> 320\u001B[0m     version, status, reason \u001B[38;5;241m=\u001B[39m \u001B[38;5;28;43mself\u001B[39;49m\u001B[38;5;241;43m.\u001B[39;49m\u001B[43m_read_status\u001B[49m\u001B[43m(\u001B[49m\u001B[43m)\u001B[49m\n\u001B[1;32m    321\u001B[0m     \u001B[38;5;28;01mif\u001B[39;00m status \u001B[38;5;241m!=\u001B[39m CONTINUE:\n\u001B[1;32m    322\u001B[0m         \u001B[38;5;28;01mbreak\u001B[39;00m\n",
      "File \u001B[0;32m/usr/local/Cellar/python@3.9/3.9.19_1/Frameworks/Python.framework/Versions/3.9/lib/python3.9/http/client.py:289\u001B[0m, in \u001B[0;36mHTTPResponse._read_status\u001B[0;34m(self)\u001B[0m\n\u001B[1;32m    285\u001B[0m     \u001B[38;5;28mprint\u001B[39m(\u001B[38;5;124m\"\u001B[39m\u001B[38;5;124mreply:\u001B[39m\u001B[38;5;124m\"\u001B[39m, \u001B[38;5;28mrepr\u001B[39m(line))\n\u001B[1;32m    286\u001B[0m \u001B[38;5;28;01mif\u001B[39;00m \u001B[38;5;129;01mnot\u001B[39;00m line:\n\u001B[1;32m    287\u001B[0m     \u001B[38;5;66;03m# Presumably, the server closed the connection before\u001B[39;00m\n\u001B[1;32m    288\u001B[0m     \u001B[38;5;66;03m# sending a valid response.\u001B[39;00m\n\u001B[0;32m--> 289\u001B[0m     \u001B[38;5;28;01mraise\u001B[39;00m RemoteDisconnected(\u001B[38;5;124m\"\u001B[39m\u001B[38;5;124mRemote end closed connection without\u001B[39m\u001B[38;5;124m\"\u001B[39m\n\u001B[1;32m    290\u001B[0m                              \u001B[38;5;124m\"\u001B[39m\u001B[38;5;124m response\u001B[39m\u001B[38;5;124m\"\u001B[39m)\n\u001B[1;32m    291\u001B[0m \u001B[38;5;28;01mtry\u001B[39;00m:\n\u001B[1;32m    292\u001B[0m     version, status, reason \u001B[38;5;241m=\u001B[39m line\u001B[38;5;241m.\u001B[39msplit(\u001B[38;5;28;01mNone\u001B[39;00m, \u001B[38;5;241m2\u001B[39m)\n",
      "\u001B[0;31mRemoteDisconnected\u001B[0m: Remote end closed connection without response"
     ]
    }
   ],
   "execution_count": 30
  },
  {
   "metadata": {},
   "cell_type": "markdown",
   "source": "iframe测试",
   "id": "7a2e59f39ed64cd1"
  },
  {
   "metadata": {
    "ExecuteTime": {
     "end_time": "2024-10-20T11:52:52.714795Z",
     "start_time": "2024-10-20T11:51:21.077750Z"
    }
   },
   "cell_type": "code",
   "source": [
    "import time\n",
    "\n",
    "from selenium import webdriver\n",
    "from selenium.webdriver.common.by import By\n",
    "\n",
    "driver = webdriver.Chrome()\n",
    "driver.maximize_window()\n",
    "driver.get('https://sahitest.com/demo/iframesTest.htm')\n",
    "driver.switch_to.frame(0)\n",
    "time.sleep(3)\n",
    "driver.find_elements(By.CSS_SELECTOR,'a[href=\"/demo\"]')[0].click()\n",
    "\n",
    "time.sleep(3)\n",
    "driver.quit()\n"
   ],
   "id": "3648d94b5e37d45a",
   "outputs": [],
   "execution_count": 2
  },
  {
   "metadata": {},
   "cell_type": "markdown",
   "source": "web第一个项目实战",
   "id": "19b80251d643f84"
  },
  {
   "metadata": {
    "ExecuteTime": {
     "end_time": "2024-10-21T13:21:53.188668Z",
     "start_time": "2024-10-21T13:21:41.035773Z"
    }
   },
   "cell_type": "code",
   "source": [
    "import time\n",
    "from selenium import webdriver\n",
    "from selenium.webdriver.common.by import By\n",
    "\n",
    "driver = webdriver.Chrome()\n",
    "driver.maximize_window()\n",
    "driver.get('http://sellshop.5istudy.online/sell/user/login_page')\n",
    "time.sleep(1)\n",
    "driver.find_element(By.CSS_SELECTOR,'#username').send_keys('test13')\n",
    "time.sleep(1)\n",
    "driver.find_element(By.CSS_SELECTOR,'#password').send_keys('123456')\n",
    "driver.find_element(By.CSS_SELECTOR,'#login > form > p.login.button > input[type=submit]').click()\n",
    "\n",
    "time.sleep(2)\n",
    "driver.quit()\n"
   ],
   "id": "5540bf9f46b18971",
   "outputs": [],
   "execution_count": 6
  },
  {
   "metadata": {
    "ExecuteTime": {
     "end_time": "2024-10-22T09:09:49.379226Z",
     "start_time": "2024-10-22T09:09:49.318200Z"
    }
   },
   "cell_type": "code",
   "source": [
    "def yan():\n",
    "    name = \"yan\"\n",
    "    assert name == 'yan'"
   ],
   "id": "3daf847b8419f4bd",
   "outputs": [],
   "execution_count": 7
  }
 ],
 "metadata": {
  "kernelspec": {
   "display_name": "Python 3",
   "language": "python",
   "name": "python3"
  },
  "language_info": {
   "codemirror_mode": {
    "name": "ipython",
    "version": 2
   },
   "file_extension": ".py",
   "mimetype": "text/x-python",
   "name": "python",
   "nbconvert_exporter": "python",
   "pygments_lexer": "ipython2",
   "version": "2.7.6"
  }
 },
 "nbformat": 4,
 "nbformat_minor": 5
}
